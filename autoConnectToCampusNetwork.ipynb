{
 "cells": [
  {
   "cell_type": "code",
   "execution_count": 3,
   "metadata": {
    "scrolled": true
   },
   "outputs": [],
   "source": [
    "import sys, time\n",
    "from selenium import webdriver\n",
    "from selenium.webdriver.common.keys import Keys\n",
    "from selenium.webdriver.support import expected_conditions as EC\n",
    "from selenium.webdriver.support.wait import WebDriverWait\n",
    "from selenium.webdriver.common.by import By\n",
    "\n",
    "#headless Chrome\n",
    "chrome_options = Options()\n",
    "chrome_options.add_argument('--headless')\n",
    "chrome_options.add_argument('--disable-gpu')\n",
    "browser = webdriver.Chrome(chrome_options=chrome_options)\n",
    "url = 'http://172.30.0.11/eportal/index.jsp?wlanuserip=67a68fa2c763c95d57552f513eabd168&wlanacname=cee24f8cac61aac95ac37f8c286d8295&ssid=&nasip=fc7e443a4fb0d3d2aa6fa026e7617dfe&mac=3ec808ba83f5537503823cee5b5671ca&t=wireless-v2&url=9049e8b464a85a2b0b595b99691bc3987b090ff67e001cd6f1a66cc833110deb58d5bfc6883836a413f1e69d21ca9938'\n",
    "\n",
    "browser.get(url)\n",
    "\n",
    "username = (By.CSS_SELECTOR, 'input[id=\\'username\\']')\n",
    "service0 = (By.CSS_SELECTOR, 'div[id=\\'_service_0\\']')\n",
    "\n",
    "try:\n",
    "    WebDriverWait(browser, 10, 0.5).until(EC.presence_of_element_located(username))\n",
    "except:\n",
    "    browser.refresh()\n",
    "    time.sleep(1)\n",
    "\n",
    "browser.find_element_by_css_selector('input[id=\\'username\\']').send_keys('7622')\n",
    "browser.find_element_by_css_selector('input[id=\\'username\\']').send_keys(Keys.TAB)\n",
    "browser.find_element_by_css_selector('input[id=\\'pwd\\']').send_keys('2267')\n",
    "browser.find_element_by_css_selector('input[id=\\'pwd\\']').send_keys(Keys.TAB)\n"
   ]
  },
  {
   "cell_type": "code",
   "execution_count": 2,
   "metadata": {},
   "outputs": [],
   "source": [
    "try:\n",
    "    WebDriverWait(browser, 10, 0.5).until(EC.presence_of_element_located(service0))\n",
    "except:\n",
    "    browser.find_element_by_css_selector('input[id=\\'pwd\\']').send_keys(Keys.TAB)\n",
    "browser.save_screenshot(sys.path[0] + '\\\\campusNet.png')\n",
    "browser.find_element_by_css_selector('div[id=\\'_service_0\\']').click()\n",
    "browser.find_element_by_css_selector('a[id=\\'loginLink\\']').click()\n",
    "time.sleep(1)\n",
    "#browser.quit()"
   ]
  }
 ],
 "metadata": {
  "kernelspec": {
   "display_name": "Python 3",
   "language": "python",
   "name": "python3"
  },
  "language_info": {
   "codemirror_mode": {
    "name": "ipython",
    "version": 3
   },
   "file_extension": ".py",
   "mimetype": "text/x-python",
   "name": "python",
   "nbconvert_exporter": "python",
   "pygments_lexer": "ipython3",
   "version": "3.6.2"
  }
 },
 "nbformat": 4,
 "nbformat_minor": 2
}
