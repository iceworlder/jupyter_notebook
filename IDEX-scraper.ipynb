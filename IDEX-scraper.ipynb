{
 "cells": [
  {
   "cell_type": "code",
   "execution_count": null,
   "metadata": {
    "scrolled": true
   },
   "outputs": [],
   "source": [
    "import os, sys, time\n",
    "from selenium import webdriver\n",
    "from selenium.webdriver.common.keys import Keys\n",
    "from selenium.webdriver.chrome.options import Options\n",
    "from selenium.webdriver.support import expected_conditions as EC\n",
    "from selenium.webdriver.support.wait import WebDriverWait\n",
    "from selenium.webdriver.common.by import By\n",
    "from pprint import pprint\n",
    "\n",
    "# headless Chrome\n",
    "chrome_options = Options()\n",
    "# chrome_options.add_argument('--headless')\n",
    "chrome_options.add_argument('--disable-gpu')\n",
    "browser = webdriver.Chrome(chrome_options=chrome_options)\n",
    "\n",
    "token = '/eth/hot'\n",
    "idex = \"https://idex.market\"\n",
    "market = idex + token\n",
    "\n",
    "browser.get(market)\n",
    "\n",
    "# 等待页面加载完毕，并关闭欢迎页面\n",
    "closeWelcomePath = 'a[class=\\'material-icons ui--close pointer\\']'\n",
    "path1 = (By.CSS_SELECTOR, closeWelcomePath)\n",
    "try:\n",
    "    WebDriverWait(browser, 30, 0.5).until(EC.presence_of_element_located(path1))\n",
    "except:\n",
    "    browser.refresh()\n",
    "    WebDriverWait(browser, 30, 0.5).until(EC.presence_of_element_located(path1))\n",
    "\n",
    "browser.find_element_by_css_selector(closeWelcomePath).click()"
   ]
  },
  {
   "cell_type": "code",
   "execution_count": null,
   "metadata": {},
   "outputs": [],
   "source": [
    "HOTContractAddressPath = 'a[class=\\'token-contract\\']'\n",
    "HOTContractAddress = browser.find_element_by_css_selector(HOTContractAddressPath).get_attribute(\"href\") # by_css_selector有此属性，by_xpath没有\n",
    "\n",
    "lastPricePath = '//*[@id=\"theme-anchor\"]/main/div[2]/div[1]/div[2]/div/div[2]/div/table/tbody/tr[2]/td[1]'\n",
    "lastPrice = float(browser.find_element_by_xpath(lastPricePath).text)\n"
   ]
  },
  {
   "cell_type": "code",
   "execution_count": null,
   "metadata": {},
   "outputs": [],
   "source": [
    "browser.quit()"
   ]
  },
  {
   "cell_type": "code",
   "execution_count": null,
   "metadata": {
    "scrolled": false
   },
   "outputs": [],
   "source": [
    "import bitshares, sqlite3, os, sys, time, random\n",
    "import numpy as np\n",
    "import pandas as pd\n",
    "from datetime import datetime, timedelta\n",
    "from bitshares import BitShares\n",
    "from bitshares.account import Account\n",
    "from bitshares.asset import Asset\n",
    "from bitshares.market import Market\n",
    "# from bitshares.dex import Dex\n",
    "# from bitshares.amount import Amount\n",
    "# from bitshares.block import Block\n",
    "# from bitshares.blockchain import Blockchain\n",
    "# from bitshares.memo import Memo\n",
    "# from bitshares.price import Price\n",
    "# from bitshares.notify import Notify\n",
    "\n",
    "EOSMarket = Market('EOS:CNY')\n",
    "EOSMarket.ticker()"
   ]
  },
  {
   "cell_type": "code",
   "execution_count": null,
   "metadata": {},
   "outputs": [],
   "source": [
    "from bitshares.account import Account\n",
    "account = Account('zhuimengxingzhe1')\n",
    "account.is_ltm #判断用户是否是终身会员\n",
    "account.balances #账户资产余额\n",
    "# account.balance(\"GDEX.EOS\")\n"
   ]
  },
  {
   "cell_type": "code",
   "execution_count": null,
   "metadata": {},
   "outputs": [],
   "source": []
  }
 ],
 "metadata": {
  "kernelspec": {
   "display_name": "Python 3",
   "language": "python",
   "name": "python3"
  },
  "language_info": {
   "codemirror_mode": {
    "name": "ipython",
    "version": 3
   },
   "file_extension": ".py",
   "mimetype": "text/x-python",
   "name": "python",
   "nbconvert_exporter": "python",
   "pygments_lexer": "ipython3",
   "version": "3.6.2"
  }
 },
 "nbformat": 4,
 "nbformat_minor": 2
}
